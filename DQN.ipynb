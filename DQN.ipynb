# %%
%matplotlib inline

import gym
import math
import random
import numpy as np
import matplotlib
import matplotlib.pyplot as plt
from collections import namedtuple
import collections
from itertools import count
import timeit
from datetime import timedelta
from PIL import Image
from tensorboardX import SummaryWriter

import torch
import torch.nn as nn
import torch.optim as optim
import torch.nn.functional as F
import torchvision.transforms as T

import os
import pybullet_data


from pybullet_envs.bullet.kuka_diverse_object_gym_env import KukaDiverseObjectEnv
from kuka_diverse_object_gym_env_MOD import KukaDiverseObjectEnvMod
from gym import spaces
import pybullet as p


#env = KukaDiverseObjectEnv(renders=True, isDiscrete=True, removeHeightHack=False, maxSteps=20)
env = KukaDiverseObjectEnvMod(renders=True, isDiscrete=True, removeHeightHack=True, maxSteps=20,cameraArm=True)
#env.cid
env.cid = p.connect(p.SHARED_MEMORY)

# set up matplotlib
is_ipython = 'inline' in matplotlib.get_backend()
if is_ipython:
    from IPython import display

plt.ion()

# if gpu is to be used
device = torch.device("cuda" if torch.cuda.is_available() else "cpu")

#%%


#%%
env._init_up_vector=(-1,0,0)
env._initial_fov = 30

env.reset()
obsv = env.step(4)

# %%
p.connect(p.GUI)
p.resetDebugVisualizerCamera(1.3, 180, -41, [0.52, -0.2, -0.33])

look = [0.23, 0.2, 0.54]
distance = 1.
pitch = -56 + np.random.uniform(-3, 3)
yaw = 245 + np.random.uniform(-3, 3)
roll = 0
p.computeViewMatrixFromYawPitchRoll(look, distance, yaw, pitch, roll, 2)

# %%
env.reset()
env.cid = p.disconnect()

look = [0.23, 0.2, 0.54]
distance = 1.
pitch = -56 + np.random.uniform(-3, 3)
yaw = 245 + np.random.uniform(-3, 3)
roll = 0
_view_matrix = p.computeViewMatrixFromYawPitchRoll(look, distance, yaw, pitch, roll, 2)
fov = 20. + np.random.uniform(-2, 2)
aspect = 40 / 40
near = 0.01
far = 10
_proj_matrix = p.computeProjectionMatrixFOV(fov, aspect, near, far)

p.loadURDF(os.path.join(pybullet_data.getDataPath(), "plane.urdf"), [0, 0, -1])

img_arr = p.getCameraImage(width=40,
                           height=40,
                           viewMatrix=_view_matrix,
                           projectionMatrix=_proj_matrix)

img_arr[2]

#env.reset()
plt.figure()
plt.imshow(img_arr[3])
plt.title('Example extracted screen')
plt.show()
# %%

preprocess = T.Compose([T.ToPILImage(),
                    T.Grayscale(num_output_channels=1),
                    T.Resize(40, interpolation=Image.CUBIC),
                    T.ToTensor()])

def get_screen():
    global stacked_screens
    # Returned screen requested by gym is 400x600x3, but is sometimes larger
    # such as 800x1200x3. Transpose it into torch order (CHW).
    screen = env._get_observation().transpose((2, 0, 1))
    # Convert to float, rescale, convert to torch tensor
    # (this doesn't require a copy)

    screen = np.ascontiguousarray(screen, dtype=np.float32) / 255
    screen = torch.from_numpy(screen)
    # Resize, and add a batch dimension (BCHW)
    return preprocess(screen).unsqueeze(0).to(device)


env.reset()
plt.figure()
plt.imshow(get_screen().cpu().squeeze(0)[-1].numpy(),cmap='Greys',
           interpolation='none')
plt.title('Example extracted screen')
plt.show()

get_screen().cpu().numpy().shape



#%%


class DQN(nn.Module):
    def __init__(self, h, w, outputs):
        super(DQN, self).__init__()
        self.conv1 = nn.Conv2d(STACK_SIZE, 32, kernel_size=8, stride=4)
        self.bn1 = nn.BatchNorm2d(32)
        self.conv2 = nn.Conv2d(32, 64, kernel_size=4, stride=2)
        self.bn2 = nn.BatchNorm2d(64)
        self.conv3 = nn.Conv2d(64, 64, kernel_size=3, stride=1)

        # Number of Linear input connections depends on output of conv2d layers
        # and therefore the input image size, so compute it.
        def conv2d_size_out(size, kernel_size = 5, stride = 2):
            return (size - (kernel_size - 1) - 1) // stride  + 1
        convw = conv2d_size_out(conv2d_size_out(conv2d_size_out(w,8,4),4,2),3,1)
        convh = conv2d_size_out(conv2d_size_out(conv2d_size_out(h,8,4),4,2),3,1)
        linear_input_size = convw * convh * 64
        self.linear = nn.Linear(linear_input_size, 512)
        self.head = nn.Linear(512, outputs)

    # Called with either one element to determine next action, or a batch
    # during optimization. Returns tensor([[left0exp,right0exp]...]).
    def forward(self, x):
        x = F.relu(self.bn1(self.conv1(x)))
        x = F.relu(self.bn2(self.conv2(x)))
        x = F.relu(self.conv3(x))
        x = F.relu(self.linear(x.view(x.size(0), -1)))
        return self.head(x)


# %%

Transition = namedtuple('Transition',
                        ('state', 'action', 'next_state', 'reward'))


class ReplayMemory(object):

    def __init__(self, capacity):
        self.capacity = capacity
        self.memory = []
        self.position = 0

    def push(self, *args):
        """Saves a transition."""
        if len(self.memory) < self.capacity:
            self.memory.append(None)
        self.memory[self.position] = Transition(*args)
        self.position = (self.position + 1) % self.capacity

    def sample(self, batch_size):
        return random.sample(self.memory, batch_size)

    def __len__(self):
        return len(self.memory)

STACK_SIZE = 5

BATCH_SIZE = 32
GAMMA = 0.99
EPS_START = 0.9
EPS_END = 0.1
EPS_DECAY = 200
EPS_DECAY_LAST_FRAME = 10**4
TARGET_UPDATE = 1000
LEARNING_RATE = 1e-4

# Get screen size so that we can initialize layers correctly based on shape
# returned from pybullet (48, 48, 3).
init_screen = get_screen()
_, _, screen_height, screen_width = init_screen.shape

# Get number of actions from gym action space
n_actions = env.action_space.n

policy_net = DQN(screen_height, screen_width, n_actions).to(device)
target_net = DQN(screen_height, screen_width, n_actions).to(device)
target_net.load_state_dict(policy_net.state_dict())
target_net.eval()

optimizer = optim.Adam(policy_net.parameters(), lr=LEARNING_RATE)
memory = ReplayMemory(10000)


eps_threshold = 0

def select_action(state, i_episode):
    global steps_done
    global eps_threshold
    sample = random.random()
    eps_threshold = max(EPS_END, EPS_START - i_episode / EPS_DECAY_LAST_FRAME)
    if sample > eps_threshold:
        with torch.no_grad():
            # t.max(1) will return largest column value of each row.
            # second column on max result is index of where max element was
            # found, so we pick action with the larger expected reward.
            return policy_net(state).max(1)[1].view(1, 1)
    else:
        return torch.tensor([[random.randrange(n_actions)]], device=device, dtype=torch.long)

# %%

state = get_screen()
stacked_states = collections.deque(STACK_SIZE*[state],maxlen=STACK_SIZE)
stacked_states[4]

# %%

state = get_screen()
stacked_states = collections.deque(STACK_SIZE*[state],maxlen=STACK_SIZE)
stacked_states_t =  torch.cat(tuple(stacked_states),dim=1)
action = policy_net(stacked_states_t).max(1)[1].view(1, 1)

print(action.data.cpu().numpy()[0])

print(action.item())

env.reset()
obsv = env.step(4)

obsv[0]

plt.figure()
plt.imshow(obsv[1],cmap='Greys',
           interpolation='none')
plt.title('Example extracted screen')
plt.show()

# %%

env.reset()
state = get_screen()
stacked_states = collections.deque(STACK_SIZE*[state],maxlen=STACK_SIZE)
for t in count():
    stacked_states_t =  torch.cat(tuple(stacked_states),dim=1)
    # Select and perform an action
    action = policy_net(stacked_states_t).max(1)[1].view(1, 1)
    _, reward, done, _ = env.step(action.item())
    # Observe new state
    next_state = get_screen()
    stacked_states.append(next_state)
    if done:
        break

i_episode = 0
print("Episode: {0:d}, reward: {1}".format(i_episode+1, reward), end="\n")
#%%
env.cid = p.disconnect()
