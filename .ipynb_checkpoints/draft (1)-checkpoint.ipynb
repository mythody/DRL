{
 "cells": [
  {
   "cell_type": "code",
   "execution_count": 1,
   "metadata": {
    "colab": {
     "base_uri": "https://localhost:8080/"
    },
    "executionInfo": {
     "elapsed": 16725,
     "status": "ok",
     "timestamp": 1613038636521,
     "user": {
      "displayName": "Sil Sabat",
      "photoUrl": "",
      "userId": "17135623927395442554"
     },
     "user_tz": -60
    },
    "id": "q0Q626wFlTwf",
    "outputId": "9c53eede-9629-4ecb-cf61-08d23c60a097"
   },
   "outputs": [
    {
     "name": "stdout",
     "output_type": "stream",
     "text": [
      "Requirement already satisfied: pybullet in /home/silvester/anaconda3/lib/python3.7/site-packages (3.0.8)\n",
      "Requirement already satisfied: tensorboardX in /home/silvester/anaconda3/lib/python3.7/site-packages (2.1)\n",
      "Requirement already satisfied: numpy in /home/silvester/anaconda3/lib/python3.7/site-packages (from tensorboardX) (1.19.2)\n",
      "Requirement already satisfied: six in /home/silvester/anaconda3/lib/python3.7/site-packages (from tensorboardX) (1.15.0)\n",
      "Requirement already satisfied: protobuf>=3.8.0 in /home/silvester/anaconda3/lib/python3.7/site-packages (from tensorboardX) (3.14.0)\n"
     ]
    }
   ],
   "source": [
    "!pip install pybullet\n",
    "!pip install tensorboardX\n",
    "import pybullet as p\n",
    "import pybullet_data\n",
    "from itertools import count"
   ]
  },
  {
   "cell_type": "code",
   "execution_count": 1,
   "metadata": {},
   "outputs": [
    {
     "name": "stdout",
     "output_type": "stream",
     "text": [
      "current_dir=/home/silvester/anaconda3/lib/python3.7/site-packages/pybullet_envs/bullet\n"
     ]
    },
    {
     "name": "stderr",
     "output_type": "stream",
     "text": [
      "/home/silvester/anaconda3/lib/python3.7/site-packages/torch/cuda/__init__.py:52: UserWarning: CUDA initialization: The NVIDIA driver on your system is too old (found version 6050). Please update your GPU driver by downloading and installing a new version from the URL: http://www.nvidia.com/Download/index.aspx Alternatively, go to: https://pytorch.org to install a PyTorch version that has been compiled with your version of the CUDA driver. (Triggered internally at  /pytorch/c10/cuda/CUDAFunctions.cpp:100.)\n",
      "  return torch._C._cuda_getDeviceCount() > 0\n"
     ]
    },
    {
     "name": "stdout",
     "output_type": "stream",
     "text": [
      "(-0.9999989318796099, -0.00025879324958639186, 0.0014384942451226913, -0.0002583590541871853, 0.99999992101791, 0.0003020178351228317, -0.0014385722916843938, 0.0003016458645188002, -0.9999989197591836)\n",
      "(-0.9999842059715143, -0.005620302966360647, -1.4445228297116153e-06, -0.005620302966378615, 0.9999842059725573, 8.380380810418944e-09, 1.4444529145992732e-06, 1.6498904395275522e-08, -0.9999999999989568)\n"
     ]
    },
    {
     "ename": "error",
     "evalue": "Only one local in-process GUI/GUI_SERVER connection allowed. Use DIRECT connection mode or start a separate GUI physics server (ExampleBrowser, App_SharedMemoryPhysics_GUI, App_SharedMemoryPhysics_VR) and connect over SHARED_MEMORY, UDP or TCP instead.",
     "output_type": "error",
     "traceback": [
      "\u001b[0;31m---------------------------------------------------------------------------\u001b[0m",
      "\u001b[0;31merror\u001b[0m                                     Traceback (most recent call last)",
      "\u001b[0;32m<ipython-input-1-f144239afe0a>\u001b[0m in \u001b[0;36m<module>\u001b[0;34m\u001b[0m\n\u001b[1;32m     57\u001b[0m \u001b[0;34m\u001b[0m\u001b[0m\n\u001b[1;32m     58\u001b[0m \u001b[0;31m# %%\u001b[0m\u001b[0;34m\u001b[0m\u001b[0;34m\u001b[0m\u001b[0;34m\u001b[0m\u001b[0m\n\u001b[0;32m---> 59\u001b[0;31m \u001b[0mp\u001b[0m\u001b[0;34m.\u001b[0m\u001b[0mconnect\u001b[0m\u001b[0;34m(\u001b[0m\u001b[0mp\u001b[0m\u001b[0;34m.\u001b[0m\u001b[0mGUI\u001b[0m\u001b[0;34m)\u001b[0m\u001b[0;34m\u001b[0m\u001b[0;34m\u001b[0m\u001b[0m\n\u001b[0m",
      "\u001b[0;31merror\u001b[0m: Only one local in-process GUI/GUI_SERVER connection allowed. Use DIRECT connection mode or start a separate GUI physics server (ExampleBrowser, App_SharedMemoryPhysics_GUI, App_SharedMemoryPhysics_VR) and connect over SHARED_MEMORY, UDP or TCP instead."
     ]
    }
   ],
   "source": [
    "%matplotlib inline\n",
    "\n",
    "import gym\n",
    "import math\n",
    "import random\n",
    "import numpy as np\n",
    "import matplotlib\n",
    "import matplotlib.pyplot as plt\n",
    "from collections import namedtuple\n",
    "import collections\n",
    "from itertools import count\n",
    "import timeit\n",
    "from datetime import timedelta\n",
    "from PIL import Image\n",
    "from tensorboardX import SummaryWriter\n",
    "\n",
    "import torch\n",
    "import torch.nn as nn\n",
    "import torch.optim as optim\n",
    "import torch.nn.functional as F\n",
    "import torchvision.transforms as T\n",
    "\n",
    "import os\n",
    "import pybullet_data\n",
    "\n",
    "\n",
    "from pybullet_envs.bullet.kuka_diverse_object_gym_env import KukaDiverseObjectEnv\n",
    "from kuka_diverse_object_gym_env_MOD import KukaDiverseObjectEnvMod\n",
    "from gym import spaces\n",
    "import pybullet as p\n",
    "\n",
    "\n",
    "#env = KukaDiverseObjectEnv(renders=True, isDiscrete=True, removeHeightHack=False, maxSteps=20)\n",
    "env = KukaDiverseObjectEnvMod(renders=True, isDiscrete=True, removeHeightHack=True, maxSteps=20,cameraArm=True)\n",
    "#env.cid\n",
    "env.cid = p.connect(p.SHARED_MEMORY)\n",
    "\n",
    "# set up matplotlib\n",
    "is_ipython = 'inline' in matplotlib.get_backend()\n",
    "if is_ipython:\n",
    "    from IPython import display\n",
    "\n",
    "plt.ion()\n",
    "\n",
    "# if gpu is to be used\n",
    "device = torch.device(\"cuda\" if torch.cuda.is_available() else \"cpu\")\n",
    "\n",
    "#%%\n",
    "\n",
    "\n",
    "#%%\n",
    "env._init_up_vector=(-1,0,0)\n",
    "env._initial_fov = 30\n",
    "\n",
    "env.reset()\n",
    "obsv = env.step(4)\n",
    "\n",
    "# %%\n",
    "p.connect(p.GUI)"
   ]
  },
  {
   "cell_type": "code",
   "execution_count": 2,
   "metadata": {
    "id": "n05YaJt-lTwm"
   },
   "outputs": [],
   "source": [
    "physicsClient = p.connect(p.GUI)#or p.DIRECT for non-graphical version\n",
    "p.setAdditionalSearchPath(pybullet_data.getDataPath()) #used by loadURDF\n",
    "p.setGravity(0,0,-10)\n",
    "planeId = p.loadURDF(\"plane.urdf\")\n",
    "cubeStartPos = [0,0,1]\n",
    "cubeStartOrientation = p.getQuaternionFromEuler([0,0,0])\n",
    "#boxId = p.loadURDF(\"r2d2.urdf\",cubeStartPos, cubeStartOrientation)\n",
    "p.setRealTimeSimulation(1)\n",
    "#for _ in count():\n",
    "#    p.stepSimulation()\n"
   ]
  },
  {
   "cell_type": "code",
   "execution_count": 3,
   "metadata": {},
   "outputs": [
    {
     "name": "stdout",
     "output_type": "stream",
     "text": [
      "current_dir=/home/silvester/anaconda3/lib/python3.7/site-packages/pybullet_envs/bullet\n"
     ]
    },
    {
     "ename": "error",
     "evalue": "Only one local in-process GUI/GUI_SERVER connection allowed. Use DIRECT connection mode or start a separate GUI physics server (ExampleBrowser, App_SharedMemoryPhysics_GUI, App_SharedMemoryPhysics_VR) and connect over SHARED_MEMORY, UDP or TCP instead.",
     "output_type": "error",
     "traceback": [
      "\u001b[0;31m---------------------------------------------------------------------------\u001b[0m",
      "\u001b[0;31merror\u001b[0m                                     Traceback (most recent call last)",
      "\u001b[0;32m<ipython-input-3-03dba8142489>\u001b[0m in \u001b[0;36m<module>\u001b[0;34m\u001b[0m\n\u001b[1;32m     25\u001b[0m \u001b[0;34m\u001b[0m\u001b[0m\n\u001b[1;32m     26\u001b[0m \u001b[0menv\u001b[0m \u001b[0;34m=\u001b[0m \u001b[0mKukaDiverseObjectEnv\u001b[0m\u001b[0;34m(\u001b[0m\u001b[0mrenders\u001b[0m\u001b[0;34m=\u001b[0m\u001b[0;32mFalse\u001b[0m\u001b[0;34m,\u001b[0m \u001b[0misDiscrete\u001b[0m\u001b[0;34m=\u001b[0m\u001b[0;32mTrue\u001b[0m\u001b[0;34m,\u001b[0m \u001b[0mremoveHeightHack\u001b[0m\u001b[0;34m=\u001b[0m\u001b[0;32mFalse\u001b[0m\u001b[0;34m,\u001b[0m \u001b[0mmaxSteps\u001b[0m\u001b[0;34m=\u001b[0m\u001b[0;36m20\u001b[0m\u001b[0;34m)\u001b[0m\u001b[0;34m\u001b[0m\u001b[0;34m\u001b[0m\u001b[0m\n\u001b[0;32m---> 27\u001b[0;31m \u001b[0menv\u001b[0m\u001b[0;34m.\u001b[0m\u001b[0mcid\u001b[0m \u001b[0;34m=\u001b[0m \u001b[0mp\u001b[0m\u001b[0;34m.\u001b[0m\u001b[0mconnect\u001b[0m\u001b[0;34m(\u001b[0m\u001b[0mp\u001b[0m\u001b[0;34m.\u001b[0m\u001b[0mGUI\u001b[0m\u001b[0;34m)\u001b[0m\u001b[0;34m\u001b[0m\u001b[0;34m\u001b[0m\u001b[0m\n\u001b[0m\u001b[1;32m     28\u001b[0m \u001b[0;34m\u001b[0m\u001b[0m\n\u001b[1;32m     29\u001b[0m \u001b[0;31m# set up matplotlib\u001b[0m\u001b[0;34m\u001b[0m\u001b[0;34m\u001b[0m\u001b[0;34m\u001b[0m\u001b[0m\n",
      "\u001b[0;31merror\u001b[0m: Only one local in-process GUI/GUI_SERVER connection allowed. Use DIRECT connection mode or start a separate GUI physics server (ExampleBrowser, App_SharedMemoryPhysics_GUI, App_SharedMemoryPhysics_VR) and connect over SHARED_MEMORY, UDP or TCP instead."
     ]
    }
   ],
   "source": [
    "import gym\n",
    "import math\n",
    "import random\n",
    "import numpy as np\n",
    "import matplotlib\n",
    "import matplotlib.pyplot as plt\n",
    "from collections import namedtuple\n",
    "import collections\n",
    "from itertools import count\n",
    "import timeit\n",
    "from datetime import timedelta\n",
    "from PIL import Image\n",
    "from tensorboardX import SummaryWriter\n",
    "\n",
    "import torch\n",
    "import torch.nn as nn\n",
    "import torch.optim as optim\n",
    "import torch.nn.functional as F\n",
    "import torchvision.transforms as T\n",
    "\n",
    "\n",
    "from pybullet_envs.bullet.kuka_diverse_object_gym_env import KukaDiverseObjectEnv\n",
    "from gym import spaces\n",
    "import pybullet as p\n",
    "\n",
    "env = KukaDiverseObjectEnv(renders=False, isDiscrete=True, removeHeightHack=False, maxSteps=20)\n",
    "env.cid = p.connect(p.GUI)\n",
    "\n",
    "# set up matplotlib\n",
    "is_ipython = 'inline' in matplotlib.get_backend()\n",
    "if is_ipython:\n",
    "    from IPython import display\n",
    "\n",
    "plt.ion()\n",
    "\n",
    "# if gpu is to be used\n",
    "device = torch.device(\"cuda\" if torch.cuda.is_available() else \"cpu\")"
   ]
  },
  {
   "cell_type": "code",
   "execution_count": null,
   "metadata": {
    "id": "GY5uqek7lTwn"
   },
   "outputs": [],
   "source": []
  },
  {
   "cell_type": "code",
   "execution_count": null,
   "metadata": {
    "id": "q_Ymj_exlTwn",
    "outputId": "6c334f57-37ad-484f-d0a0-b5ab0c1aa730"
   },
   "outputs": [
    {
     "name": "stdout",
     "output_type": "stream",
     "text": [
      "/home/ks\r\n"
     ]
    }
   ],
   "source": [
    "!pwd"
   ]
  },
  {
   "cell_type": "code",
   "execution_count": 3,
   "metadata": {
    "id": "y1qvfHBUlTwo"
   },
   "outputs": [
    {
     "ename": "FileNotFoundError",
     "evalue": "[Errno 2] No such file or directory: '/home/ks/Study/RL/Project/YCB_objects/models/ycb/'",
     "output_type": "error",
     "traceback": [
      "\u001b[0;31m---------------------------------------------------------------------------\u001b[0m",
      "\u001b[0;31mFileNotFoundError\u001b[0m                         Traceback (most recent call last)",
      "\u001b[0;32m<ipython-input-3-1acaf680129c>\u001b[0m in \u001b[0;36m<module>\u001b[0;34m\u001b[0m\n\u001b[1;32m      3\u001b[0m \u001b[0mobject_folder_names\u001b[0m\u001b[0;34m=\u001b[0m\u001b[0;34m[\u001b[0m\u001b[0;34m]\u001b[0m\u001b[0;34m\u001b[0m\u001b[0;34m\u001b[0m\u001b[0m\n\u001b[1;32m      4\u001b[0m \u001b[0mycb_models\u001b[0m \u001b[0;34m=\u001b[0m \u001b[0;34m'/home/ks/Study/RL/Project/YCB_objects/models/ycb/'\u001b[0m\u001b[0;34m\u001b[0m\u001b[0;34m\u001b[0m\u001b[0m\n\u001b[0;32m----> 5\u001b[0;31m \u001b[0mfolder_names\u001b[0m \u001b[0;34m=\u001b[0m \u001b[0mos\u001b[0m\u001b[0;34m.\u001b[0m\u001b[0mlistdir\u001b[0m\u001b[0;34m(\u001b[0m\u001b[0mycb_models\u001b[0m\u001b[0;34m)\u001b[0m\u001b[0;34m\u001b[0m\u001b[0;34m\u001b[0m\u001b[0m\n\u001b[0m\u001b[1;32m      6\u001b[0m \u001b[0;32mfor\u001b[0m \u001b[0mfolder\u001b[0m \u001b[0;32min\u001b[0m \u001b[0mfolder_names\u001b[0m\u001b[0;34m:\u001b[0m\u001b[0;34m\u001b[0m\u001b[0;34m\u001b[0m\u001b[0m\n\u001b[1;32m      7\u001b[0m         \u001b[0;32mif\u001b[0m \u001b[0mfolder\u001b[0m \u001b[0;34m!=\u001b[0m \u001b[0;34m\"template\"\u001b[0m\u001b[0;34m:\u001b[0m\u001b[0;34m\u001b[0m\u001b[0;34m\u001b[0m\u001b[0m\n",
      "\u001b[0;31mFileNotFoundError\u001b[0m: [Errno 2] No such file or directory: '/home/ks/Study/RL/Project/YCB_objects/models/ycb/'"
     ]
    }
   ],
   "source": [
    "import os\n",
    "import numpy as np\n",
    "object_folder_names=[]\n",
    "ycb_models = '/home/ks/Study/RL/Project/YCB_objects/models/ycb/'\n",
    "folder_names = os.listdir(ycb_models)\n",
    "for folder in folder_names:\n",
    "        if folder != \"template\":\n",
    "            # Extract model name and folder\n",
    "            model_long = folder\n",
    "            model_short = folder[4:]\n",
    "            object_folder_names.append(model_long)\n",
    "            \n",
    "object_folder_names = np.array(object_folder_names)"
   ]
  },
  {
   "cell_type": "code",
   "execution_count": null,
   "metadata": {
    "id": "0k-dPRNvlTwp",
    "outputId": "a27167b5-12ea-49e8-bcd4-326b51b4dcb1"
   },
   "outputs": [
    {
     "name": "stdout",
     "output_type": "stream",
     "text": [
      "['._025_mug' '001_chips_can' '002_master_chef_can' '003_cracker_box'\n",
      " '004_sugar_box' '005_tomato_soup_can' '006_mustard_bottle'\n",
      " '007_tuna_fish_can' '008_pudding_box' '009_gelatin_box'\n",
      " '010_potted_meat_can' '011_banana' '012_strawberry' '013_apple'\n",
      " '014_lemon' '015_peach' '016_pear' '017_orange' '018_plum'\n",
      " '019_pitcher_base' '021_bleach_cleanser' '022_windex_bottle'\n",
      " '023_wine_glass' '024_bowl' '025_mug' '026_sponge' '028_skillet_lid'\n",
      " '029_plate' '030_fork' '031_spoon' '032_knife' '033_spatula'\n",
      " '035_power_drill' '036_wood_block' '037_scissors' '038_padlock' '039_key'\n",
      " '040_large_marker' '041_small_marker' '042_adjustable_wrench'\n",
      " '043_phillips_screwdriver' '044_flat_screwdriver' '046_plastic_bolt'\n",
      " '047_plastic_nut' '048_hammer' '049_small_clamp' '050_medium_clamp'\n",
      " '051_large_clamp' '052_extra_large_clamp' '053_mini_soccer_ball'\n",
      " '054_softball' '055_baseball' '056_tennis_ball' '057_racquetball'\n",
      " '058_golf_ball' '059_chain' '061_foam_brick' '062_dice' '063-a_marbles'\n",
      " '063-b_marbles' '063-c_marbles' '063-d_marbles' '063-f_marbles'\n",
      " '065-a_cups' '065-b_cups' '065-c_cups' '065-d_cups' '065-e_cups'\n",
      " '065-f_cups' '065-g_cups' '065-h_cups' '065-i_cups' '065-j_cups'\n",
      " '070-a_colored_wood_blocks' '070-b_colored_wood_blocks'\n",
      " '071_nine_hole_peg_test' '072-a_toy_airplane' '072-b_toy_airplane'\n",
      " '072-c_toy_airplane' '072-d_toy_airplane' '072-e_toy_airplane'\n",
      " '072-f_toy_airplane' '072-g_toy_airplane' '072-h_toy_airplane'\n",
      " '072-i_toy_airplane' '072-j_toy_airplane' '072-k_toy_airplane'\n",
      " '073-a_lego_duplo' '073-b_lego_duplo' '073-c_lego_duplo'\n",
      " '073-d_lego_duplo' '073-e_lego_duplo' '073-f_lego_duplo'\n",
      " '073-g_lego_duplo' '073-h_lego_duplo' '073-i_lego_duplo'\n",
      " '073-j_lego_duplo' '073-k_lego_duplo' '073-l_lego_duplo'\n",
      " '073-m_lego_duplo' '076_timer' '077_rubiks_cube']\n",
      "['002_master_chef_can' '003_cracker_box' '004_sugar_box'\n",
      " '005_tomato_soup_can' '006_mustard_bottle' '007_tuna_fish_can'\n",
      " '008_pudding_box' '009_gelatin_box' '010_potted_meat_can' '011_banana'\n",
      " '012_strawberry' '013_apple' '014_lemon' '015_peach' '016_pear'\n",
      " '017_orange' '018_plum' '019_pitcher_base' '021_bleach_cleanser'\n",
      " '024_bowl' '025_mug' '026_sponge' '029_plate' '030_fork' '031_spoon'\n",
      " '032_knife' '033_spatula' '035_power_drill' '036_wood_block'\n",
      " '037_scissors' '038_padlock' '040_large_marker' '042_adjustable_wrench'\n",
      " '043_phillips_screwdriver' '044_flat_screwdriver' '048_hammer'\n",
      " '050_medium_clamp' '051_large_clamp' '052_extra_large_clamp'\n",
      " '053_mini_soccer_ball' '054_softball' '055_baseball' '056_tennis_ball'\n",
      " '057_racquetball' '058_golf_ball' '061_foam_brick' '062_dice'\n",
      " '063-b_marbles' '065-a_cups' '065-b_cups' '065-c_cups' '065-d_cups'\n",
      " '065-e_cups' '065-f_cups' '065-g_cups' '065-h_cups' '065-i_cups'\n",
      " '065-j_cups' '070-b_colored_wood_blocks' '071_nine_hole_peg_test'\n",
      " '072-a_toy_airplane' '072-b_toy_airplane' '072-c_toy_airplane'\n",
      " '072-d_toy_airplane' '072-e_toy_airplane' '073-a_lego_duplo'\n",
      " '073-b_lego_duplo' '073-c_lego_duplo' '073-d_lego_duplo'\n",
      " '073-e_lego_duplo' '073-f_lego_duplo' '077_rubiks_cube']\n"
     ]
    }
   ],
   "source": [
    "object_folder_names.sort()\n",
    "print(object_folder_names)\n",
    "working_object_folder_names=np.delete(object_folder_names,[0,1,21,22,26,36,38,42,43,45,55,58,60,61,62,73,81,82,83,84,85,86,93,94,95,96,97,98,99,100])\n",
    "print(working_object_folder_names)"
   ]
  },
  {
   "cell_type": "code",
   "execution_count": null,
   "metadata": {
    "id": "My7Wx2hZlTwq",
    "outputId": "76df5ad9-baf6-42f3-b0cf-f3bf8f65ac70"
   },
   "outputs": [
    {
     "data": {
      "text/plain": [
       "101"
      ]
     },
     "execution_count": 1028,
     "metadata": {
      "tags": []
     },
     "output_type": "execute_result"
    }
   ],
   "source": [
    "object_folder_names.size"
   ]
  },
  {
   "cell_type": "code",
   "execution_count": null,
   "metadata": {
    "id": "q3rjHp2elTwq"
   },
   "outputs": [],
   "source": [
    "working_objects =['002_master_chef_can','003_cracker_box','004_sugar_box','005_tomato_soup_can','006_mustard_bottle','007_tuna_fish_can','008_pudding_box','009_gelatin_box','010_potted_meat_can','011_banana','012_strawberry','013_apple','014_lemon']\n"
   ]
  },
  {
   "cell_type": "code",
   "execution_count": null,
   "metadata": {
    "id": "W9YuPZB1lTwr"
   },
   "outputs": [],
   "source": [
    "ycb_object_folder = ''\n",
    "ycb_object_name = ycb_object_folder[4:]\n",
    "#some_object = p.loadSDF(ycb_models+ycb_object_folder+'/'+ycb_object_name+'.sdf')\n",
    "#can = p.loadSDF('/Downloads/models/ycb/013_apple/apple.sdf')\n",
    "\n"
   ]
  },
  {
   "cell_type": "code",
   "execution_count": null,
   "metadata": {
    "id": "LTAxx33ElTwr",
    "outputId": "5be53595-3bda-4583-f646-5f35c1e57e11"
   },
   "outputs": [
    {
     "name": "stdout",
     "output_type": "stream",
     "text": [
      "063-c_marbles\n",
      "/Study/RL/Project/YCB_objects/models/ycb/063-c_marbles/c_marbles.sdf\n"
     ]
    },
    {
     "ename": "error",
     "evalue": "Cannot load SDF file.",
     "output_type": "error",
     "traceback": [
      "\u001b[0;31m-------------------------------------------------------------------\u001b[0m",
      "\u001b[0;31merror\u001b[0m                             Traceback (most recent call last)",
      "\u001b[0;32m<ipython-input-1232-ef036da56dd6>\u001b[0m in \u001b[0;36m<module>\u001b[0;34m()\u001b[0m\n\u001b[1;32m      5\u001b[0m \u001b[0mfile_to_load\u001b[0m\u001b[0;34m=\u001b[0m\u001b[0mycb_models\u001b[0m\u001b[0;34m+\u001b[0m\u001b[0mycb_object_folder\u001b[0m\u001b[0;34m+\u001b[0m\u001b[0;34m'/'\u001b[0m\u001b[0;34m+\u001b[0m\u001b[0mycb_object_name\u001b[0m\u001b[0;34m+\u001b[0m\u001b[0;34m'.sdf'\u001b[0m\u001b[0;34m\u001b[0m\u001b[0;34m\u001b[0m\u001b[0m\n\u001b[1;32m      6\u001b[0m \u001b[0mprint\u001b[0m\u001b[0;34m(\u001b[0m\u001b[0mfile_to_load\u001b[0m\u001b[0;34m)\u001b[0m\u001b[0;34m\u001b[0m\u001b[0;34m\u001b[0m\u001b[0m\n\u001b[0;32m----> 7\u001b[0;31m \u001b[0msome_object\u001b[0m \u001b[0;34m=\u001b[0m \u001b[0mp\u001b[0m\u001b[0;34m.\u001b[0m\u001b[0mloadSDF\u001b[0m\u001b[0;34m(\u001b[0m\u001b[0mfile_to_load\u001b[0m\u001b[0;34m)\u001b[0m\u001b[0;34m\u001b[0m\u001b[0;34m\u001b[0m\u001b[0m\n\u001b[0m\u001b[1;32m      8\u001b[0m \u001b[0;31m#can = p.loadSDF('/Downloads/models/ycb/013_apple/apple.sdf')\u001b[0m\u001b[0;34m\u001b[0m\u001b[0;34m\u001b[0m\u001b[0;34m\u001b[0m\u001b[0m\n",
      "\u001b[0;31merror\u001b[0m: Cannot load SDF file."
     ]
    }
   ],
   "source": [
    "ycb_models = '/Study/RL/Project/YCB_objects/models/ycb/'\n",
    "ycb_object_folder=object_folder_names[60]\n",
    "print(ycb_object_folder)\n",
    "ycb_object_name = ycb_object_folder[4:]\n",
    "file_to_load=ycb_models+ycb_object_folder+'/'+ycb_object_name+'.sdf'\n",
    "print(file_to_load)\n",
    "some_object = p.loadSDF(file_to_load)\n",
    "#can = p.loadSDF('/Downloads/models/ycb/013_apple/apple.sdf')\n",
    "\n"
   ]
  },
  {
   "cell_type": "code",
   "execution_count": null,
   "metadata": {
    "id": "t3crZYSylTws",
    "outputId": "956c8a2c-fa22-4f25-cadb-1f2e07b9f3c7"
   },
   "outputs": [
    {
     "name": "stdout",
     "output_type": "stream",
     "text": [
      "002_master_chef_can\n",
      "003_cracker_box\n",
      "004_sugar_box\n",
      "005_tomato_soup_can\n",
      "006_mustard_bottle\n",
      "007_tuna_fish_can\n",
      "008_pudding_box\n",
      "009_gelatin_box\n",
      "010_potted_meat_can\n",
      "011_banana\n",
      "012_strawberry\n",
      "013_apple\n",
      "014_lemon\n",
      "015_peach\n",
      "016_pear\n",
      "017_orange\n",
      "018_plum\n",
      "019_pitcher_base\n",
      "021_bleach_cleanser\n",
      "024_bowl\n",
      "025_mug\n",
      "026_sponge\n",
      "029_plate\n",
      "030_fork\n",
      "031_spoon\n",
      "032_knife\n",
      "033_spatula\n",
      "035_power_drill\n",
      "036_wood_block\n",
      "037_scissors\n",
      "038_padlock\n",
      "040_large_marker\n",
      "042_adjustable_wrench\n",
      "043_phillips_screwdriver\n",
      "044_flat_screwdriver\n",
      "048_hammer\n",
      "050_medium_clamp\n",
      "051_large_clamp\n",
      "052_extra_large_clamp\n",
      "053_mini_soccer_ball\n",
      "054_softball\n",
      "055_baseball\n",
      "056_tennis_ball\n",
      "057_racquetball\n",
      "058_golf_ball\n",
      "061_foam_brick\n",
      "062_dice\n",
      "063-b_marbles\n",
      "065-a_cups\n",
      "065-b_cups\n",
      "065-c_cups\n",
      "065-d_cups\n",
      "065-e_cups\n",
      "065-f_cups\n",
      "065-g_cups\n",
      "065-h_cups\n",
      "065-i_cups\n",
      "065-j_cups\n",
      "070-b_colored_wood_blocks\n",
      "071_nine_hole_peg_test\n",
      "072-a_toy_airplane\n",
      "072-b_toy_airplane\n",
      "072-c_toy_airplane\n",
      "072-d_toy_airplane\n",
      "072-e_toy_airplane\n",
      "073-a_lego_duplo\n",
      "073-b_lego_duplo\n",
      "073-c_lego_duplo\n",
      "073-d_lego_duplo\n",
      "073-e_lego_duplo\n",
      "073-f_lego_duplo\n",
      "077_rubiks_cube\n"
     ]
    }
   ],
   "source": [
    "scene_objects = []\n",
    "for obj_folder_name in working_object_folder_names:\n",
    "    print(obj_folder_name)\n",
    "    ycb_object_name = obj_folder_name[4:]\n",
    "    scene_objects.append(p.loadSDF(ycb_models+obj_folder_name+'/'+ycb_object_name+'.sdf'))\n"
   ]
  },
  {
   "cell_type": "code",
   "execution_count": null,
   "metadata": {
    "id": "TsXmWAoulTws"
   },
   "outputs": [],
   "source": [
    "\n",
    "obj_folder_name = working_object_folder_names[1]\n",
    "ycb_object_name = obj_folder_name[4:]\n",
    "scene_objects.append(p.loadSDF(ycb_models+obj_folder_name+'/'+ycb_object_name+'.sdf'))\n"
   ]
  },
  {
   "cell_type": "code",
   "execution_count": null,
   "metadata": {
    "id": "sw2ddxDxlTws"
   },
   "outputs": [],
   "source": []
  },
  {
   "cell_type": "code",
   "execution_count": null,
   "metadata": {
    "id": "mAuSEZ0plTwt",
    "outputId": "fb8224f4-5937-4026-fca1-17fd7e6e726c"
   },
   "outputs": [
    {
     "ename": "NameError",
     "evalue": "name 'osp' is not defined",
     "output_type": "error",
     "traceback": [
      "\u001b[0;31m---------------------------------------------------------------------------\u001b[0m",
      "\u001b[0;31mNameError\u001b[0m                                 Traceback (most recent call last)",
      "\u001b[0;32m<ipython-input-769-0040e9515b77>\u001b[0m in \u001b[0;36m<module>\u001b[0;34m()\u001b[0m\n\u001b[0;32m----> 1\u001b[0;31m \u001b[0;32massert\u001b[0m \u001b[0mosp\u001b[0m\u001b[0;34m.\u001b[0m\u001b[0mexists\u001b[0m\u001b[0;34m(\u001b[0m\u001b[0;34m'/Downloads/models/ycb/001_chips_can/chips_can.sdf'\u001b[0m\u001b[0;34m)\u001b[0m\u001b[0;34m\u001b[0m\u001b[0;34m\u001b[0m\u001b[0m\n\u001b[0m",
      "\u001b[0;31mNameError\u001b[0m: name 'osp' is not defined"
     ]
    }
   ],
   "source": [
    "assert osp.exists('/Downloads/models/ycb/001_chips_can/chips_can.sdf')"
   ]
  },
  {
   "cell_type": "code",
   "execution_count": null,
   "metadata": {
    "id": "lLg_V4NzlTwt"
   },
   "outputs": [],
   "source": [
    "/home/ks/Downloads/models/ycb/001_chips_can/chips_can.sdf"
   ]
  },
  {
   "cell_type": "code",
   "execution_count": null,
   "metadata": {
    "id": "Aj2obWpElTwt"
   },
   "outputs": [],
   "source": [
    "dd = p.createVisualShape(p.GEOM_MESH,fileName='/Downloads/001_chips_can/tsdf/nonetexture.stl')"
   ]
  },
  {
   "cell_type": "code",
   "execution_count": null,
   "metadata": {
    "id": "Kpc9L4xJlTwt",
    "outputId": "77ffb633-c3b2-45e5-d8f1-6c9093908fb5"
   },
   "outputs": [
    {
     "data": {
      "text/plain": [
       "11"
      ]
     },
     "execution_count": 763,
     "metadata": {
      "tags": []
     },
     "output_type": "execute_result"
    }
   ],
   "source": [
    "p.createMultiBody(baseVisualShapeIndex=dd,basePosition=cubeStartPos, baseOrientation=cubeStartOrientation)"
   ]
  },
  {
   "cell_type": "code",
   "execution_count": null,
   "metadata": {
    "id": "ur-rDqb4lTwu",
    "outputId": "4cf39caa-4be2-417d-a0bb-79a39297a0ab"
   },
   "outputs": [
    {
     "ename": "error",
     "evalue": "Couldn't load .bullet file.",
     "output_type": "error",
     "traceback": [
      "\u001b[0;31m---------------------------------------------------------------------------\u001b[0m",
      "\u001b[0;31merror\u001b[0m                                     Traceback (most recent call last)",
      "\u001b[0;32m<ipython-input-742-b4c7b9b67e75>\u001b[0m in \u001b[0;36m<module>\u001b[0;34m()\u001b[0m\n\u001b[0;32m----> 1\u001b[0;31m \u001b[0mappleId\u001b[0m \u001b[0;34m=\u001b[0m \u001b[0mp\u001b[0m\u001b[0;34m.\u001b[0m\u001b[0mloadBullet\u001b[0m\u001b[0;34m(\u001b[0m\u001b[0;34m'/Study/RL/Project/YCB_objects/apply.ply'\u001b[0m\u001b[0;34m)\u001b[0m\u001b[0;34m\u001b[0m\u001b[0;34m\u001b[0m\u001b[0m\n\u001b[0m",
      "\u001b[0;31merror\u001b[0m: Couldn't load .bullet file."
     ]
    }
   ],
   "source": [
    "appleId = p.loadBullet('/Study/RL/Project/YCB_objects/apply.ply')"
   ]
  },
  {
   "cell_type": "code",
   "execution_count": null,
   "metadata": {
    "id": "o_KZiPymlTwu"
   },
   "outputs": [],
   "source": [
    "p.setAdditionalSearchPath('Study')"
   ]
  },
  {
   "cell_type": "code",
   "execution_count": null,
   "metadata": {
    "id": "-tlgu-D9lTwu"
   },
   "outputs": [],
   "source": [
    "p.disconnect()"
   ]
  },
  {
   "cell_type": "code",
   "execution_count": null,
   "metadata": {
    "id": "9Djce_b4lTwv"
   },
   "outputs": [],
   "source": [
    "p.loadSDF()"
   ]
  },
  {
   "cell_type": "code",
   "execution_count": 4,
   "metadata": {
    "id": "_LXCunaBlTwv"
   },
   "outputs": [],
   "source": [
    "boxId = p.loadURDF(\"r2d2.urdf\",cubeStartPos, cubeStartOrientation)"
   ]
  },
  {
   "cell_type": "code",
   "execution_count": 5,
   "metadata": {
    "id": "K0-nIgn1lTwv"
   },
   "outputs": [
    {
     "ename": "NameError",
     "evalue": "name 'targetVel' is not defined",
     "output_type": "error",
     "traceback": [
      "\u001b[0;31m---------------------------------------------------------------------------\u001b[0m",
      "\u001b[0;31mNameError\u001b[0m                                 Traceback (most recent call last)",
      "\u001b[0;32m<ipython-input-5-50806b6eb2f0>\u001b[0m in \u001b[0;36m<module>\u001b[0;34m\u001b[0m\n\u001b[1;32m      1\u001b[0m \u001b[0;32mfor\u001b[0m \u001b[0mi\u001b[0m \u001b[0;32min\u001b[0m \u001b[0mrange\u001b[0m\u001b[0;34m(\u001b[0m\u001b[0mp\u001b[0m\u001b[0;34m.\u001b[0m\u001b[0mgetNumJoints\u001b[0m\u001b[0;34m(\u001b[0m\u001b[0mboxId\u001b[0m\u001b[0;34m)\u001b[0m\u001b[0;34m)\u001b[0m\u001b[0;34m:\u001b[0m\u001b[0;34m\u001b[0m\u001b[0;34m\u001b[0m\u001b[0m\n\u001b[0;32m----> 2\u001b[0;31m     p.setJointMotorControl2(boxId,i,p.VELOCITY_CONTROL,targetVelocity = targetVel, \n\u001b[0m\u001b[1;32m      3\u001b[0m     force = maxForce) \n",
      "\u001b[0;31mNameError\u001b[0m: name 'targetVel' is not defined"
     ]
    }
   ],
   "source": [
    "for i in range(p.getNumJoints(boxId)):\n",
    "    p.setJointMotorControl2(boxId,i,p.VELOCITY_CONTROL,targetVelocity = targetVel, \n",
    "    force = maxForce) "
   ]
  },
  {
   "cell_type": "code",
   "execution_count": null,
   "metadata": {
    "id": "uoB3ZMC8lTwv",
    "outputId": "851214c3-632d-4009-bda4-c3827a8211e4"
   },
   "outputs": [
    {
     "data": {
      "text/plain": [
       "0"
      ]
     },
     "execution_count": 66,
     "metadata": {
      "tags": []
     },
     "output_type": "execute_result"
    }
   ],
   "source": [
    "p.getNumJoints(random_urdf)"
   ]
  },
  {
   "cell_type": "code",
   "execution_count": null,
   "metadata": {
    "id": "rI-T7rJWlTww"
   },
   "outputs": [],
   "source": [
    "ycb_models_urdf = '/home/ks/anaconda3/envs/cs285/lib/python3.6/site-packages/pybullet_data/random_urdfs/'\n",
    "obj_folder_name = '799'\n",
    "random_urdf = p.loadURDF(ycb_models_urdf+obj_folder_name+'/'+obj_folder_name+'.urdf',cubeStartPos, cubeStartOrientation)"
   ]
  },
  {
   "cell_type": "code",
   "execution_count": null,
   "metadata": {
    "id": "YRSUoQBSlTww",
    "outputId": "5291cca2-e07d-4d08-d7c7-159e6fff6d32"
   },
   "outputs": [
    {
     "data": {
      "text/plain": [
       "(0.1,\n",
       " 1.0,\n",
       " (0.00047692654965705004, 0.0006481341575249293, 0.0006508229641308817),\n",
       " (0.0, 0.0, 0.0),\n",
       " (0.0, 0.0, 0.0, 1.0),\n",
       " 0.0,\n",
       " 0.0,\n",
       " 0.0,\n",
       " -1.0,\n",
       " -1.0,\n",
       " 2,\n",
       " 0.001)"
      ]
     },
     "execution_count": 65,
     "metadata": {
      "tags": []
     },
     "output_type": "execute_result"
    }
   ],
   "source": [
    "p.getDynamicsInfo(random_urdf,-1)"
   ]
  },
  {
   "cell_type": "code",
   "execution_count": null,
   "metadata": {
    "id": "lULf4lhclTww",
    "outputId": "5e5d4081-71d2-463a-b3b4-b132ac0b0e28"
   },
   "outputs": [
    {
     "data": {
      "text/plain": [
       "(0.0021732875685518717,\n",
       " 0.5,\n",
       " (1.4500996738285916e-05, 1.0277980059441939e-05, 6.671007443214234e-06),\n",
       " (-0.01485355781018036, -0.01420505447388014, 0.10220486833098277),\n",
       " (0.000286283994684304,\n",
       "  0.9999769811732492,\n",
       "  0.003998386114809771,\n",
       "  0.005474310329763037),\n",
       " 0.0,\n",
       " 0.0,\n",
       " 0.0,\n",
       " -1.0,\n",
       " -1.0,\n",
       " 2,\n",
       " 0.001)"
      ]
     },
     "execution_count": 69,
     "metadata": {
      "tags": []
     },
     "output_type": "execute_result"
    }
   ],
   "source": [
    "p.getDynamicsInfo(scene_objects[-1][0],-1)"
   ]
  },
  {
   "cell_type": "code",
   "execution_count": null,
   "metadata": {
    "id": "idF6f7vylTwx",
    "outputId": "d8f32cad-6618-4470-c950-0c13b1e41b53"
   },
   "outputs": [
    {
     "name": "stdout",
     "output_type": "stream",
     "text": [
      "(0, b'base_to_right_leg', 4, -1, -1, 0, 0.0, 0.0, 0.0, -1.0, 0.0, 0.0, b'right_leg', (0.0, 0.0, 0.0), (0.22, 0.0, 0.25), (0.0, -0.7070904020014416, 0.0, 0.7071231599922604), -1)\n",
      "\n",
      "\n",
      "(1, b'right_base_joint', 4, -1, -1, 0, 0.0, 0.0, 0.0, -1.0, 0.0, 0.0, b'right_base', (0.0, 0.0, 0.0), (0.2999999996780742, 0.0, -1.3898038463944216e-05), (0.0, 0.7070904020014416, 0.0, 0.7071231599922604), 0)\n",
      "\n",
      "\n",
      "(2, b'right_front_wheel_joint', 0, 7, 6, 1, 0.0, 0.0, 0.0, -1.0, 100.0, 100.0, b'right_front_wheel', (0.0, 0.0, 1.0), (0.0, 0.133333333333, -0.085), (0.0, -0.7070904020014416, 0.0, 0.7071231599922604), 1)\n",
      "\n",
      "\n",
      "(3, b'right_back_wheel_joint', 0, 8, 7, 1, 0.0, 0.0, 0.0, -1.0, 100.0, 100.0, b'right_back_wheel', (0.0, 0.0, 1.0), (0.0, -0.133333333333, -0.085), (0.0, -0.7070904020014416, 0.0, 0.7071231599922604), 1)\n",
      "\n",
      "\n",
      "(4, b'base_to_left_leg', 4, -1, -1, 0, 0.0, 0.0, 0.0, -1.0, 0.0, 0.0, b'left_leg', (0.0, 0.0, 0.0), (-0.22, 0.0, 0.25), (0.0, -0.7070904020014416, 0.0, 0.7071231599922604), -1)\n",
      "\n",
      "\n",
      "(5, b'left_base_joint', 4, -1, -1, 0, 0.0, 0.0, 0.0, -1.0, 0.0, 0.0, b'left_base', (0.0, 0.0, 0.0), (0.2999999996780742, 0.0, -1.3898038463944216e-05), (0.0, 0.7070904020014416, 0.0, 0.7071231599922604), 4)\n",
      "\n",
      "\n",
      "(6, b'left_front_wheel_joint', 0, 9, 8, 1, 0.0, 0.0, 0.0, -1.0, 100.0, 100.0, b'left_front_wheel', (0.0, 0.0, 1.0), (0.0, 0.133333333333, -0.085), (0.0, -0.7070904020014416, 0.0, 0.7071231599922604), 5)\n",
      "\n",
      "\n",
      "(7, b'left_back_wheel_joint', 0, 10, 9, 1, 0.0, 0.0, 0.0, -1.0, 100.0, 100.0, b'left_back_wheel', (0.0, 0.0, 1.0), (0.0, -0.133333333333, -0.085), (0.0, -0.7070904020014416, 0.0, 0.7071231599922604), 5)\n",
      "\n",
      "\n",
      "(8, b'gripper_extension', 1, 11, 10, 1, 0.0, 0.0, -0.38, 0.0, 1000.0, 0.5, b'gripper_pole', (1.0, 0.0, 0.0), (0.0, 0.19, 0.2), (0.0, 0.0, -0.7070904020014416, 0.7071231599922604), -1)\n",
      "\n",
      "\n",
      "(9, b'left_gripper_joint', 0, 12, 11, 1, 0.0, 0.0, 0.0, 0.548, 1000.0, 0.5, b'left_gripper', (0.0, 0.0, 1.0), (0.2, 0.02, 0.0), (0.0, 0.0, 0.0, 1.0), 8)\n",
      "\n",
      "\n",
      "(10, b'left_tip_joint', 4, -1, -1, 0, 0.0, 0.0, 0.0, -1.0, 0.0, 0.0, b'left_tip', (0.0, 0.0, 0.0), (0.0, 0.0, 0.0), (0.0, 0.0, 0.0, 1.0), 9)\n",
      "\n",
      "\n",
      "(11, b'right_gripper_joint', 0, 13, 12, 1, 0.0, 0.0, 0.0, 0.548, 1000.0, 0.5, b'right_gripper', (0.0, 0.0, -1.0), (0.2, -0.02, 0.0), (0.0, 0.0, 0.0, 1.0), 8)\n",
      "\n",
      "\n",
      "(12, b'right_tip_joint', 4, -1, -1, 0, 0.0, 0.0, 0.0, -1.0, 0.0, 0.0, b'right_tip', (0.0, 0.0, 0.0), (0.0, 0.0, 0.0), (0.0, 0.0, 0.0, 1.0), 11)\n",
      "\n",
      "\n",
      "(13, b'head_swivel', 0, 14, 13, 1, 0.0, 0.0, -0.38, 0.0, 1000.0, 0.5, b'head', (0.0, 0.0, 1.0), (0.0, 0.0, 0.3), (0.0, 0.0, 0.0, 1.0), -1)\n",
      "\n",
      "\n",
      "(14, b'tobox', 4, -1, -1, 0, 0.0, 0.0, 0.0, -1.0, 0.0, 0.0, b'box', (0.0, 0.0, 0.0), (0.0, 0.1214, 0.1214), (0.0, 0.0, 0.0, 1.0), 13)\n",
      "\n",
      "\n"
     ]
    }
   ],
   "source": [
    "boxId = p.loadURDF(\"r2d2.urdf\",cubeStartPos, cubeStartOrientation)\n",
    "targetVel = 10\n",
    "maxForce = 100\n",
    "for i in range(p.getNumJoints(boxId)):\n",
    "    p.setJointMotorControl2(boxId,i,p.VELOCITY_CONTROL,targetVelocity = targetVel, \n",
    "    force = maxForce) \n",
    "    print(p.getJointInfo(boxId,i))\n",
    "    print('\\n')"
   ]
  },
  {
   "cell_type": "code",
   "execution_count": null,
   "metadata": {
    "id": "P7mg8TLslTwx"
   },
   "outputs": [],
   "source": []
  },
  {
   "cell_type": "code",
   "execution_count": null,
   "metadata": {
    "id": "rIZA1YySlTwx"
   },
   "outputs": [],
   "source": [
    "p.setJointMotorControl2(boxId,i,p.POSITION_CONTROL,force=100)"
   ]
  },
  {
   "cell_type": "code",
   "execution_count": null,
   "metadata": {
    "id": "47bqv6pblTwy"
   },
   "outputs": [],
   "source": [
    "p.VELOCITY_CONTROL\n",
    "p.TORQUE_CONTROL"
   ]
  },
  {
   "cell_type": "code",
   "execution_count": null,
   "metadata": {
    "id": "dGQ68TEYlTwy",
    "outputId": "53821753-bd9e-4189-f2be-7ff81485c9aa"
   },
   "outputs": [
    {
     "data": {
      "text/plain": [
       "((0.0033543962595962893, -0.10023698044723045, 2.40126330995765),\n",
       " (0.03057692652594161, 0.006630614866241406, 0.002371650922855693))"
      ]
     },
     "execution_count": 1406,
     "metadata": {
      "tags": []
     },
     "output_type": "execute_result"
    }
   ],
   "source": [
    "p.stepSimulation()\n",
    "p.getBaseVelocity(boxId)"
   ]
  },
  {
   "cell_type": "code",
   "execution_count": null,
   "metadata": {
    "id": "QMcddYTplTwy"
   },
   "outputs": [],
   "source": [
    "p.setGravity(0,0,-10)"
   ]
  },
  {
   "cell_type": "code",
   "execution_count": null,
   "metadata": {
    "id": "p4Z3VqbwlTwy",
    "outputId": "00064a8e-8e64-4df1-b29f-ef7f28bc6577"
   },
   "outputs": [
    {
     "data": {
      "text/plain": [
       "(b'base_link', b'physics')"
      ]
     },
     "execution_count": 1080,
     "metadata": {
      "tags": []
     },
     "output_type": "execute_result"
    }
   ],
   "source": [
    "p.getBodyInfo(boxId)"
   ]
  },
  {
   "cell_type": "code",
   "execution_count": null,
   "metadata": {
    "id": "x3wuczeWlTwz",
    "outputId": "b9e209b9-9047-4810-f07e-79ef98829ebd"
   },
   "outputs": [
    {
     "data": {
      "text/plain": [
       "((4.93240967504988e-08, 6.12498269224955e-06, 6.297204409574126),\n",
       " (-1.117408023981063e-07, 6.400508989668282e-10, 8.489388508830915e-07))"
      ]
     },
     "execution_count": 1148,
     "metadata": {
      "tags": []
     },
     "output_type": "execute_result"
    }
   ],
   "source": [
    "p.getBaseVelocity(boxId)"
   ]
  },
  {
   "cell_type": "code",
   "execution_count": null,
   "metadata": {
    "id": "J26Hs4q9lTwz"
   },
   "outputs": [],
   "source": [
    "physicsClient = p.connect(p.GUI)"
   ]
  },
  {
   "cell_type": "code",
   "execution_count": null,
   "metadata": {
    "id": "n2jy0_T4lTwz"
   },
   "outputs": [],
   "source": [
    "p.setAdditionalSearchPath(pybullet_data.getDataPath())"
   ]
  },
  {
   "cell_type": "code",
   "execution_count": null,
   "metadata": {
    "id": "X8GwxMutlTwz"
   },
   "outputs": [],
   "source": [
    "planeId = p.loadURDF(\"plane.urdf\")"
   ]
  },
  {
   "cell_type": "code",
   "execution_count": null,
   "metadata": {
    "id": "2jR8cH-alTw0"
   },
   "outputs": [],
   "source": [
    "cubeStartPos = [0,0,5]\n",
    "cubeStartOrientation = p.getQuaternionFromEuler([0,0,0])\n",
    "boxId = p.loadURDF(\"r2d2.urdf\",cubeStartPos, cubeStartOrientation)"
   ]
  },
  {
   "cell_type": "code",
   "execution_count": null,
   "metadata": {
    "id": "J857VuRWlTw0",
    "outputId": "4cd1b514-11c4-42a4-c328-e69912aea8f9"
   },
   "outputs": [
    {
     "data": {
      "text/plain": [
       "()"
      ]
     },
     "execution_count": 587,
     "metadata": {
      "tags": []
     },
     "output_type": "execute_result"
    }
   ],
   "source": [
    "p.stepSimulation()"
   ]
  },
  {
   "cell_type": "code",
   "execution_count": null,
   "metadata": {
    "id": "JrZE5_IalTw0"
   },
   "outputs": [],
   "source": [
    "cubePos, cubeOrn = p.getBasePositionAndOrientation(boxId)"
   ]
  },
  {
   "cell_type": "code",
   "execution_count": null,
   "metadata": {
    "id": "CEBAhEEClTw0",
    "outputId": "d433a62f-a5b0-442d-86c5-4fdef7e86095"
   },
   "outputs": [
    {
     "name": "stdout",
     "output_type": "stream",
     "text": [
      "(2.6596131666846382e-08, 5.4093570598366666e-06, 0.4709798906588156) (-7.892791824009873e-08, 2.5067610700843307e-08, 1.9823520431870353e-07, 0.9999999999999769)\n"
     ]
    }
   ],
   "source": [
    "print(cubePos,cubeOrn)"
   ]
  },
  {
   "cell_type": "code",
   "execution_count": null,
   "metadata": {
    "id": "xj8p_7UQlTw1"
   },
   "outputs": [],
   "source": []
  },
  {
   "cell_type": "code",
   "execution_count": null,
   "metadata": {
    "id": "rrWYi3_IlTw1"
   },
   "outputs": [],
   "source": [
    "import os\n",
    "import numpy as np\n",
    "random_object_folder_names=[]\n",
    "ycb_models = '/home/ks/anaconda3/envs/cs285/lib/python3.6/site-packages/pybullet_data/random_urdfs/'\n",
    "folder_names = os.listdir(ycb_models)\n",
    "for folder in folder_names:\n",
    "        model_name = folder\n",
    "        random_object_folder_names.append(model_name)\n",
    "            \n",
    "random_object_folder_names = np.array(random_object_folder_names)"
   ]
  },
  {
   "cell_type": "code",
   "execution_count": null,
   "metadata": {
    "id": "v0EGi_OhlTw2",
    "outputId": "7d7d8a18-fd50-44cc-a088-daeb527e25a0"
   },
   "outputs": [
    {
     "data": {
      "text/plain": [
       "array(['000', '001', '002', '003', '004', '005', '006', '007', '008',\n",
       "       '009', '010', '011', '012', '013', '014', '015', '016', '017',\n",
       "       '018', '019', '020', '021', '022', '023', '024', '025', '026',\n",
       "       '027', '028', '029', '030', '031', '032', '033', '034', '035',\n",
       "       '036', '037', '038', '039', '040', '041', '042', '043', '044',\n",
       "       '045', '046', '047', '048', '049', '050', '051', '052', '053',\n",
       "       '054', '055', '056', '057', '058', '059', '060', '061', '062',\n",
       "       '063', '064', '065', '066', '067', '068', '069', '070', '071',\n",
       "       '072', '073', '074', '075', '076', '077', '078', '079', '080',\n",
       "       '081', '082', '083', '084', '085', '086', '087', '088', '089',\n",
       "       '090', '091', '092', '093', '094', '095', '096', '097', '098',\n",
       "       '099', '100', '101', '102', '103', '104', '105', '106', '107',\n",
       "       '108', '109', '110', '111', '112', '113', '114', '115', '116',\n",
       "       '117', '118', '119', '120', '121', '122', '123', '124', '125',\n",
       "       '126', '127', '128', '129', '130', '131', '132', '133', '134',\n",
       "       '135', '136', '137', '138', '139', '140', '141', '142', '143',\n",
       "       '144', '145', '146', '147', '148', '149', '150', '151', '152',\n",
       "       '153', '154', '155', '156', '157', '158', '159', '160', '161',\n",
       "       '162', '163', '164', '165', '166', '167', '168', '169', '170',\n",
       "       '171', '172', '173', '174', '175', '176', '177', '178', '179',\n",
       "       '180', '181', '182', '183', '184', '185', '186', '187', '188',\n",
       "       '189', '190', '191', '192', '193', '194', '195', '196', '197',\n",
       "       '198', '199', '200', '201', '202', '203', '204', '205', '206',\n",
       "       '207', '208', '209', '210', '211', '212', '213', '214', '215',\n",
       "       '216', '217', '218', '219', '220', '221', '222', '223', '224',\n",
       "       '225', '226', '227', '228', '229', '230', '231', '232', '233',\n",
       "       '234', '235', '236', '237', '238', '239', '240', '241', '242',\n",
       "       '243', '244', '245', '246', '247', '248', '249', '250', '251',\n",
       "       '252', '253', '254', '255', '256', '257', '258', '259', '260',\n",
       "       '261', '262', '263', '264', '265', '266', '267', '268', '269',\n",
       "       '270', '271', '272', '273', '274', '275', '276', '277', '278',\n",
       "       '279', '280', '281', '282', '283', '284', '285', '286', '287',\n",
       "       '288', '289', '290', '291', '292', '293', '294', '295', '296',\n",
       "       '297', '298', '299', '300', '301', '302', '303', '304', '305',\n",
       "       '306', '307', '308', '309', '310', '311', '312', '313', '314',\n",
       "       '315', '316', '317', '318', '319', '320', '321', '322', '323',\n",
       "       '324', '325', '326', '327', '328', '329', '330', '331', '332',\n",
       "       '333', '334', '335', '336', '337', '338', '339', '340', '341',\n",
       "       '342', '343', '344', '345', '346', '347', '348', '349', '350',\n",
       "       '351', '352', '353', '354', '355', '356', '357', '358', '359',\n",
       "       '360', '361', '362', '363', '364', '365', '366', '367', '368',\n",
       "       '369', '370', '371', '372', '373', '374', '375', '376', '377',\n",
       "       '378', '379', '380', '381', '382', '383', '384', '385', '386',\n",
       "       '387', '388', '389', '390', '391', '392', '393', '394', '395',\n",
       "       '396', '397', '398', '399', '400', '401', '402', '403', '404',\n",
       "       '405', '406', '407', '408', '409', '410', '411', '412', '413',\n",
       "       '414', '415', '416', '417', '418', '419', '420', '421', '422',\n",
       "       '423', '424', '425', '426', '427', '428', '429', '430', '431',\n",
       "       '432', '433', '434', '435', '436', '437', '438', '439', '440',\n",
       "       '441', '442', '443', '444', '445', '446', '447', '448', '449',\n",
       "       '450', '451', '452', '453', '454', '455', '456', '457', '458',\n",
       "       '459', '460', '461', '462', '463', '464', '465', '466', '467',\n",
       "       '468', '469', '470', '471', '472', '473', '474', '475', '476',\n",
       "       '477', '478', '479', '480', '481', '482', '483', '484', '485',\n",
       "       '486', '487', '488', '489', '490', '491', '492', '493', '494',\n",
       "       '495', '496', '497', '498', '499', '500', '501', '502', '503',\n",
       "       '504', '505', '506', '507', '508', '509', '510', '511', '512',\n",
       "       '513', '514', '515', '516', '517', '518', '519', '520', '521',\n",
       "       '522', '523', '524', '525', '526', '527', '528', '529', '530',\n",
       "       '531', '532', '533', '534', '535', '536', '537', '538', '539',\n",
       "       '540', '541', '542', '543', '544', '545', '546', '547', '548',\n",
       "       '549', '550', '551', '552', '553', '554', '555', '556', '557',\n",
       "       '558', '559', '560', '561', '562', '563', '564', '565', '566',\n",
       "       '567', '568', '569', '570', '571', '572', '573', '574', '575',\n",
       "       '576', '577', '578', '579', '580', '581', '582', '583', '584',\n",
       "       '585', '586', '587', '588', '589', '590', '591', '592', '593',\n",
       "       '594', '595', '596', '597', '598', '599', '600', '601', '602',\n",
       "       '603', '604', '605', '606', '607', '608', '609', '610', '611',\n",
       "       '612', '613', '614', '615', '616', '617', '618', '619', '620',\n",
       "       '621', '622', '623', '624', '625', '626', '627', '628', '629',\n",
       "       '630', '631', '632', '633', '634', '635', '636', '637', '638',\n",
       "       '639', '640', '641', '642', '643', '644', '645', '646', '647',\n",
       "       '648', '649', '650', '651', '652', '653', '654', '655', '656',\n",
       "       '657', '658', '659', '660', '661', '662', '663', '664', '665',\n",
       "       '666', '667', '668', '669', '670', '671', '672', '673', '674',\n",
       "       '675', '676', '677', '678', '679', '680', '681', '682', '683',\n",
       "       '684', '685', '686', '687', '688', '689', '690', '691', '692',\n",
       "       '693', '694', '695', '696', '697', '698', '699', '700', '701',\n",
       "       '702', '703', '704', '705', '706', '707', '708', '709', '710',\n",
       "       '711', '712', '713', '714', '715', '716', '717', '718', '719',\n",
       "       '720', '721', '722', '723', '724', '725', '726', '727', '728',\n",
       "       '729', '730', '731', '732', '733', '734', '735', '736', '737',\n",
       "       '738', '739', '740', '741', '742', '743', '744', '745', '746',\n",
       "       '747', '748', '749', '750', '751', '752', '753', '754', '755',\n",
       "       '756', '757', '758', '759', '760', '761', '762', '763', '764',\n",
       "       '765', '766', '767', '768', '769', '770', '771', '772', '773',\n",
       "       '774', '775', '776', '777', '778', '779', '780', '781', '782',\n",
       "       '783', '784', '785', '786', '787', '788', '789', '790', '791',\n",
       "       '792', '793', '794', '795', '796', '797', '798', '799', '800',\n",
       "       '801', '802', '803', '804', '805', '806', '807', '808', '809',\n",
       "       '810', '811', '812', '813', '814', '815', '816', '817', '818',\n",
       "       '819', '820', '821', '822', '823', '824', '825', '826', '827',\n",
       "       '828', '829', '830', '831', '832', '833', '834', '835', '836',\n",
       "       '837', '838', '839', '840', '841', '842', '843', '844', '845',\n",
       "       '846', '847', '848', '849', '850', '851', '852', '853', '854',\n",
       "       '855', '856', '857', '858', '859', '860', '861', '862', '863',\n",
       "       '864', '865', '866', '867', '868', '869', '870', '871', '872',\n",
       "       '873', '874', '875', '876', '877', '878', '879', '880', '881',\n",
       "       '882', '883', '884', '885', '886', '887', '888', '889', '890',\n",
       "       '891', '892', '893', '894', '895', '896', '897', '898', '899',\n",
       "       '900', '901', '902', '903', '904', '905', '906', '907', '908',\n",
       "       '909', '910', '911', '912', '913', '914', '915', '916', '917',\n",
       "       '918', '919', '920', '921', '922', '923', '924', '925', '926',\n",
       "       '927', '928', '929', '930', '931', '932', '933', '934', '935',\n",
       "       '936', '937', '938', '939', '940', '941', '942', '943', '944',\n",
       "       '945', '946', '947', '948', '949', '950', '951', '952', '953',\n",
       "       '954', '955', '956', '957', '958', '959', '960', '961', '962',\n",
       "       '963', '964', '965', '966', '967', '968', '969', '970', '971',\n",
       "       '972', '973', '974', '975', '976', '977', '978', '979', '980',\n",
       "       '981', '982', '983', '984', '985', '986', '987', '988', '989',\n",
       "       '990', '991', '992', '993', '994', '995', '996', '997', '998',\n",
       "       '999'], dtype='<U3')"
      ]
     },
     "execution_count": 7,
     "metadata": {
      "tags": []
     },
     "output_type": "execute_result"
    }
   ],
   "source": [
    "random_object_folder_names"
   ]
  },
  {
   "cell_type": "code",
   "execution_count": null,
   "metadata": {
    "id": "m2qmCGvalTw2",
    "outputId": "bf7cafed-9aa7-4b44-c9bb-a0688b6bc557"
   },
   "outputs": [
    {
     "name": "stdout",
     "output_type": "stream",
     "text": [
      "000\n",
      "001\n",
      "002\n",
      "003\n",
      "004\n",
      "005\n",
      "006\n",
      "007\n",
      "008\n",
      "009\n",
      "010\n",
      "011\n",
      "012\n",
      "013\n",
      "014\n",
      "015\n",
      "016\n",
      "017\n",
      "018\n",
      "019\n",
      "020\n",
      "021\n",
      "022\n",
      "023\n",
      "024\n",
      "025\n",
      "026\n",
      "027\n",
      "028\n",
      "029\n",
      "030\n",
      "031\n",
      "032\n",
      "033\n",
      "034\n",
      "035\n",
      "036\n",
      "037\n",
      "038\n",
      "039\n",
      "040\n",
      "041\n",
      "042\n",
      "043\n",
      "044\n",
      "045\n",
      "046\n",
      "047\n",
      "048\n",
      "049\n",
      "050\n",
      "051\n",
      "052\n",
      "053\n",
      "054\n",
      "055\n",
      "056\n",
      "057\n",
      "058\n",
      "059\n",
      "060\n",
      "061\n",
      "062\n",
      "063\n",
      "064\n",
      "065\n",
      "066\n",
      "067\n",
      "068\n",
      "069\n",
      "070\n",
      "071\n",
      "072\n",
      "073\n",
      "074\n",
      "075\n",
      "076\n",
      "077\n",
      "078\n",
      "079\n",
      "080\n",
      "081\n",
      "082\n",
      "083\n",
      "084\n",
      "085\n",
      "086\n",
      "087\n",
      "088\n",
      "089\n",
      "090\n",
      "091\n",
      "092\n",
      "093\n",
      "094\n",
      "095\n",
      "096\n",
      "097\n",
      "098\n",
      "099\n",
      "100\n",
      "101\n",
      "102\n",
      "103\n",
      "104\n",
      "105\n",
      "106\n",
      "107\n",
      "108\n",
      "109\n",
      "110\n",
      "111\n",
      "112\n",
      "113\n",
      "114\n",
      "115\n",
      "116\n",
      "117\n",
      "118\n",
      "119\n",
      "120\n",
      "121\n",
      "122\n",
      "123\n",
      "124\n",
      "125\n",
      "126\n",
      "127\n",
      "128\n",
      "129\n",
      "130\n",
      "131\n",
      "132\n",
      "133\n",
      "134\n",
      "135\n",
      "136\n",
      "137\n",
      "138\n",
      "139\n",
      "140\n",
      "141\n",
      "142\n",
      "143\n",
      "144\n",
      "145\n",
      "146\n",
      "147\n",
      "148\n",
      "149\n",
      "150\n",
      "151\n",
      "152\n",
      "153\n",
      "154\n",
      "155\n",
      "156\n",
      "157\n",
      "158\n",
      "159\n",
      "160\n",
      "161\n",
      "162\n",
      "163\n",
      "164\n",
      "165\n",
      "166\n",
      "167\n",
      "168\n",
      "169\n",
      "170\n",
      "171\n",
      "172\n",
      "173\n",
      "174\n",
      "175\n",
      "176\n",
      "177\n",
      "178\n",
      "179\n",
      "180\n",
      "181\n",
      "182\n",
      "183\n",
      "184\n",
      "185\n",
      "186\n",
      "187\n",
      "188\n",
      "189\n",
      "190\n",
      "191\n",
      "192\n",
      "193\n",
      "194\n",
      "195\n",
      "196\n",
      "197\n",
      "198\n",
      "199\n",
      "200\n",
      "201\n",
      "202\n",
      "203\n",
      "204\n",
      "205\n",
      "206\n",
      "207\n",
      "208\n",
      "209\n",
      "210\n",
      "211\n",
      "212\n",
      "213\n",
      "214\n",
      "215\n",
      "216\n",
      "217\n",
      "218\n",
      "219\n",
      "220\n",
      "221\n",
      "222\n",
      "223\n",
      "224\n",
      "225\n",
      "226\n",
      "227\n",
      "228\n",
      "229\n",
      "230\n",
      "231\n",
      "232\n",
      "233\n",
      "234\n",
      "235\n",
      "236\n",
      "237\n",
      "238\n",
      "239\n",
      "240\n",
      "241\n",
      "242\n",
      "243\n",
      "244\n",
      "245\n",
      "246\n",
      "247\n",
      "248\n",
      "249\n",
      "250\n",
      "251\n",
      "252\n",
      "253\n",
      "254\n",
      "255\n",
      "256\n",
      "257\n",
      "258\n",
      "259\n",
      "260\n",
      "261\n",
      "262\n",
      "263\n",
      "264\n",
      "265\n",
      "266\n",
      "267\n",
      "268\n",
      "269\n",
      "270\n",
      "271\n",
      "272\n",
      "273\n",
      "274\n",
      "275\n",
      "276\n",
      "277\n",
      "278\n",
      "279\n",
      "280\n",
      "281\n",
      "282\n",
      "283\n",
      "284\n",
      "285\n",
      "286\n",
      "287\n",
      "288\n",
      "289\n",
      "290\n",
      "291\n",
      "292\n",
      "293\n",
      "294\n",
      "295\n",
      "296\n",
      "297\n",
      "298\n",
      "299\n",
      "300\n",
      "301\n",
      "302\n",
      "303\n",
      "304\n",
      "305\n",
      "306\n",
      "307\n",
      "308\n",
      "309\n",
      "310\n",
      "311\n",
      "312\n",
      "313\n",
      "314\n",
      "315\n",
      "316\n",
      "317\n",
      "318\n",
      "319\n",
      "320\n",
      "321\n",
      "322\n",
      "323\n",
      "324\n",
      "325\n",
      "326\n",
      "327\n",
      "328\n",
      "329\n",
      "330\n",
      "331\n",
      "332\n",
      "333\n",
      "334\n",
      "335\n",
      "336\n",
      "337\n",
      "338\n",
      "339\n",
      "340\n",
      "341\n",
      "342\n",
      "343\n",
      "344\n",
      "345\n",
      "346\n",
      "347\n",
      "348\n",
      "349\n",
      "350\n",
      "351\n",
      "352\n",
      "353\n",
      "354\n",
      "355\n",
      "356\n",
      "357\n",
      "358\n",
      "359\n",
      "360\n",
      "361\n",
      "362\n",
      "363\n",
      "364\n",
      "365\n",
      "366\n",
      "367\n",
      "368\n",
      "369\n",
      "370\n",
      "371\n",
      "372\n",
      "373\n",
      "374\n",
      "375\n",
      "376\n",
      "377\n",
      "378\n",
      "379\n",
      "380\n",
      "381\n",
      "382\n",
      "383\n",
      "384\n",
      "385\n",
      "386\n",
      "387\n",
      "388\n",
      "389\n",
      "390\n",
      "391\n",
      "392\n",
      "393\n",
      "394\n",
      "395\n",
      "396\n",
      "397\n",
      "398\n",
      "399\n",
      "400\n",
      "401\n",
      "402\n",
      "403\n",
      "404\n",
      "405\n",
      "406\n",
      "407\n",
      "408\n",
      "409\n",
      "410\n",
      "411\n",
      "412\n",
      "413\n",
      "414\n",
      "415\n",
      "416\n",
      "417\n",
      "418\n",
      "419\n",
      "420\n",
      "421\n",
      "422\n",
      "423\n",
      "424\n",
      "425\n",
      "426\n",
      "427\n",
      "428\n",
      "429\n",
      "430\n",
      "431\n",
      "432\n",
      "433\n",
      "434\n",
      "435\n",
      "436\n",
      "437\n",
      "438\n",
      "439\n",
      "440\n",
      "441\n",
      "442\n",
      "443\n",
      "444\n",
      "445\n",
      "446\n",
      "447\n",
      "448\n",
      "449\n",
      "450\n",
      "451\n",
      "452\n",
      "453\n",
      "454\n",
      "455\n",
      "456\n",
      "457\n",
      "458\n",
      "459\n",
      "460\n",
      "461\n"
     ]
    }
   ],
   "source": [
    "scene_objects = []\n",
    "for obj_folder_name in random_object_folder_names:\n",
    "    print(obj_folder_name)\n",
    "    ycb_object_name = obj_folder_name[4:]\n",
    "    #scene_objects.append(p.loadSDF(ycb_models+obj_folder_name+'/'+ycb_object_name+'.sdf'))\n",
    "    scene_objects.append(p.loadURDF(ycb_models+obj_folder_name+'/'+obj_folder_name+'.urdf',cubeStartPos, cubeStartOrientation))\n"
   ]
  }
 ],
 "metadata": {
  "accelerator": "GPU",
  "colab": {
   "name": "draft.ipynb",
   "provenance": []
  },
  "kernelspec": {
   "display_name": "Python 3",
   "language": "python",
   "name": "python3"
  },
  "language_info": {
   "codemirror_mode": {
    "name": "ipython",
    "version": 3
   },
   "file_extension": ".py",
   "mimetype": "text/x-python",
   "name": "python",
   "nbconvert_exporter": "python",
   "pygments_lexer": "ipython3",
   "version": "3.7.9"
  }
 },
 "nbformat": 4,
 "nbformat_minor": 1
}
